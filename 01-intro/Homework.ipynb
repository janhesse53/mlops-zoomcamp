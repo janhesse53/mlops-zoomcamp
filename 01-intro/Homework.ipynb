{
 "cells": [
  {
   "cell_type": "code",
   "execution_count": 1,
   "id": "6ac21a08-8250-4c61-a9a7-3c11e17f5482",
   "metadata": {},
   "outputs": [],
   "source": [
    "import pandas as pd\n",
    "import seaborn as sns\n",
    "import matplotlib.pyplot as plt\n",
    "from sklearn.feature_extraction import DictVectorizer\n",
    "from sklearn.linear_model import LinearRegression, Lasso, Ridge\n",
    "from sklearn.ensemble import RandomForestRegressor\n",
    "\n",
    "from sklearn.metrics import mean_squared_error"
   ]
  },
  {
   "cell_type": "code",
   "execution_count": 2,
   "id": "20221eab-8aed-4e1c-8f4d-1125a42942a9",
   "metadata": {},
   "outputs": [],
   "source": [
    "def read_data(file_path):\n",
    "    df = pd.read_parquet(file_path)\n",
    "    \n",
    "    df['trip_duration'] = df['tpep_dropoff_datetime'] - df['tpep_pickup_datetime']\n",
    "    df['trip_duration_min'] = df['trip_duration'].apply(lambda x: round((x.total_seconds()/60),2))\n",
    "    \n",
    "    max_cut_off = df['trip_duration_min'].quantile(.999)\n",
    "    df = df[(df['trip_duration_min'] >0) & (df['trip_duration_min'] <=max_cut_off)]\n",
    "    return df"
   ]
  },
  {
   "cell_type": "code",
   "execution_count": 3,
   "id": "e1058dc9-760b-4099-9743-f1e1b0fb372b",
   "metadata": {},
   "outputs": [],
   "source": [
    "df_train = read_data('https://d37ci6vzurychx.cloudfront.net/trip-data/yellow_tripdata_2024-01.parquet')\n",
    "df_val = read_data('https://d37ci6vzurychx.cloudfront.net/trip-data/yellow_tripdata_2024-02.parquet')"
   ]
  },
  {
   "cell_type": "code",
   "execution_count": 4,
   "id": "db99ff92-3ddd-4190-ab7f-167928ad8d7b",
   "metadata": {},
   "outputs": [],
   "source": [
    "def create_features(df):\n",
    "    df['PU_DO'] = df['PULocationID'].astype(str) + '_' + df['DOLocationID'].astype(str)\n",
    "    return df"
   ]
  },
  {
   "cell_type": "code",
   "execution_count": 5,
   "id": "c2308575-d6d0-4430-8995-7540cf8b9e1d",
   "metadata": {},
   "outputs": [],
   "source": [
    "df_train = create_features(df_train)\n",
    "df_val = create_features(df_val)"
   ]
  },
  {
   "cell_type": "code",
   "execution_count": 6,
   "id": "31d90db0-16e5-4bec-b46e-570c0f4033fc",
   "metadata": {},
   "outputs": [],
   "source": [
    "def vectorize_data(df_train, df_val, cat_cols, num_cols):\n",
    "    df_train_copy = df_train[cat_features + num_features]\n",
    "    df_val_copy = df_val[cat_features + num_features]\n",
    "    \n",
    "    train_dicts = df_train_copy[cat_features + num_features].to_dict(orient='records')\n",
    "    val_dicts = df_val_copy[cat_features + num_features].to_dict(orient='records')\n",
    "    \n",
    "    dv = DictVectorizer()\n",
    "    df_train_vec = dv.fit_transform(train_dicts)\n",
    "    df_val_vec = dv.transform(val_dicts)    \n",
    "    return df_train_vec, df_val_vec"
   ]
  },
  {
   "cell_type": "code",
   "execution_count": 7,
   "id": "b840f2ad-c0ec-4aec-a560-c16dbac27de1",
   "metadata": {},
   "outputs": [],
   "source": [
    "cat_features = ['PULocationID', 'DOLocationID', 'PU_DO']\n",
    "num_features = ['trip_distance']"
   ]
  },
  {
   "cell_type": "code",
   "execution_count": 8,
   "id": "976573d5-b455-4182-b31a-9caf4ac92bfe",
   "metadata": {},
   "outputs": [],
   "source": [
    "X_train_vec, X_val_vec = vectorize_data(df_train, df_val, cat_features, num_features)\n",
    "\n",
    "X_train = df_train[cat_features + num_features]\n",
    "X_val = df_val[cat_features + num_features]"
   ]
  },
  {
   "cell_type": "code",
   "execution_count": 9,
   "id": "6a44b894-e28b-4bc7-81fc-a6521707d282",
   "metadata": {},
   "outputs": [],
   "source": [
    "target = 'trip_duration_min'\n",
    "y_train = df_train[target].values\n",
    "y_val = df_val[target].values"
   ]
  },
  {
   "cell_type": "code",
   "execution_count": 10,
   "id": "8cdc0905-6af4-4180-882a-4dbe935ea248",
   "metadata": {},
   "outputs": [
    {
     "name": "stdout",
     "output_type": "stream",
     "text": [
      "(2960789, 4)\n",
      "(3003715, 4)\n",
      "(2960789, 26116)\n",
      "(3003715, 26116)\n",
      "(2960789,)\n",
      "(3003715,)\n"
     ]
    }
   ],
   "source": [
    "print(X_train.shape)\n",
    "print(X_val.shape)\n",
    "print(X_train_vec.shape)\n",
    "print(X_val_vec.shape)\n",
    "print(y_train.shape)\n",
    "print(y_val.shape)"
   ]
  },
  {
   "cell_type": "markdown",
   "id": "8a32d13e-6ad6-405b-b2c8-c41e57ab3a0f",
   "metadata": {},
   "source": [
    "## Model training"
   ]
  },
  {
   "cell_type": "code",
   "execution_count": 11,
   "id": "dc17c53c-3513-4c5f-8243-9b3ebe10f54c",
   "metadata": {},
   "outputs": [],
   "source": [
    "def train_model(model, X_train, y_train, X_val, y_val):\n",
    "    model.fit(X_train, y_train)\n",
    "    y_pred_train = model.predict(X_train)\n",
    "    y_pred_val = model.predict(X_val)\n",
    "    rmse_train = mean_squared_error(y_train, y_pred_train, squared=False)\n",
    "    rmse_val = mean_squared_error(y_val, y_pred_val, squared=False)\n",
    "    return y_pred_train, y_pred_val, rmse_train, rmse_val"
   ]
  },
  {
   "cell_type": "markdown",
   "id": "502bc566-c55a-4882-b737-808ab95f7d3f",
   "metadata": {},
   "source": [
    "### Regression"
   ]
  },
  {
   "cell_type": "code",
   "execution_count": 12,
   "id": "4d1512f1-7e8d-4f5c-b198-686778790a1c",
   "metadata": {},
   "outputs": [],
   "source": [
    "model = LinearRegression()\n",
    "\n",
    "y_pred_train, y_pred_val, rmse_train, rmse_val = train_model(model, X_train_vec, y_train, X_val_vec, y_val)"
   ]
  },
  {
   "cell_type": "code",
   "execution_count": 13,
   "id": "74db78ef-840d-4fe3-8334-968bb9b1d116",
   "metadata": {},
   "outputs": [
    {
     "name": "stdout",
     "output_type": "stream",
     "text": [
      "rmse_train: 6.130541048697959\n",
      "rmse_val: 6.488167113904765\n"
     ]
    }
   ],
   "source": [
    "print(f'rmse_train: {rmse_train}')\n",
    "print(f'rmse_val: {rmse_val}')"
   ]
  },
  {
   "cell_type": "markdown",
   "id": "70b7b976-7e2e-47d1-99a0-12daf769371a",
   "metadata": {},
   "source": [
    "### Random Forest"
   ]
  },
  {
   "cell_type": "code",
   "execution_count": 14,
   "id": "1ecd964f-913d-45eb-9f21-e4b1124a0422",
   "metadata": {},
   "outputs": [
    {
     "name": "stdout",
     "output_type": "stream",
     "text": [
      "rmse_train: 6.669905698914243\n",
      "rmse_val: 6.894515524009098\n"
     ]
    }
   ],
   "source": [
    "model = RandomForestRegressor(max_depth=3)\n",
    "\n",
    "y_pred_train, y_pred_val, rmse_train, rmse_val = train_model(model, X_train, y_train, X_val, y_val)\n",
    "\n",
    "print(f'rmse_train: {rmse_train}')\n",
    "print(f'rmse_val: {rmse_val}')"
   ]
  },
  {
   "cell_type": "markdown",
   "id": "5251ef92-afcd-4bb2-b8be-1cf074387cd7",
   "metadata": {},
   "source": [
    "### Lasso"
   ]
  },
  {
   "cell_type": "code",
   "execution_count": null,
   "id": "2949065a-891a-4e21-bf23-44cfe6d0f1b7",
   "metadata": {},
   "outputs": [],
   "source": [
    "model = Lasso()\n",
    "\n",
    "y_pred_train, y_pred_val, rmse_train, rmse_val = train_model(model, X_train_vec, y_train, X_val_vec, y_val)\n",
    "\n",
    "print(f'rmse_train: {rmse_train}')\n",
    "print(f'rmse_val: {rmse_val}')"
   ]
  },
  {
   "cell_type": "markdown",
   "id": "3b9e9bbb-f765-4b05-a016-6428b00fc3b0",
   "metadata": {},
   "source": [
    "### Ridge"
   ]
  },
  {
   "cell_type": "code",
   "execution_count": null,
   "id": "e502147a-5cd2-4122-b659-77197474b98b",
   "metadata": {},
   "outputs": [],
   "source": [
    "model = Ridge()\n",
    "\n",
    "y_pred_train, y_pred_val, rmse_train, rmse_val = train_model(model, X_train_vec, y_train, X_val_vec, y_val)\n",
    "\n",
    "print(f'rmse_train: {rmse_train}')\n",
    "print(f'rmse_val: {rmse_val}')"
   ]
  }
 ],
 "metadata": {
  "kernelspec": {
   "display_name": "Python 3 (ipykernel)",
   "language": "python",
   "name": "python3"
  },
  "language_info": {
   "codemirror_mode": {
    "name": "ipython",
    "version": 3
   },
   "file_extension": ".py",
   "mimetype": "text/x-python",
   "name": "python",
   "nbconvert_exporter": "python",
   "pygments_lexer": "ipython3",
   "version": "3.11.7"
  }
 },
 "nbformat": 4,
 "nbformat_minor": 5
}
